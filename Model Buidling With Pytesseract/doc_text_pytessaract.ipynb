{
 "cells": [
  {
   "cell_type": "code",
   "execution_count": 1,
   "id": "cee8e14f-732d-4e5a-bbc5-713415afdad6",
   "metadata": {},
   "outputs": [],
   "source": [
    "import cv2\n",
    "from PIL import Image"
   ]
  },
  {
   "cell_type": "code",
   "execution_count": 2,
   "id": "3a3293f0-8137-4c31-b9f2-ef6733b2bcbf",
   "metadata": {},
   "outputs": [],
   "source": [
    "# def mark_region('img.png'):\n",
    "    \n",
    "im = cv2.imread('img.png')\n",
    "\n",
    "gray = cv2.cvtColor(im, cv2.COLOR_BGR2GRAY)\n",
    "blur = cv2.GaussianBlur(gray, (9,9), 0)\n",
    "thresh = cv2.adaptiveThreshold(blur,255,cv2.ADAPTIVE_THRESH_GAUSSIAN_C, cv2.THRESH_BINARY_INV,11,30)\n",
    "\n",
    "    # Dilate to combine adjacent text contours\n",
    "kernel = cv2.getStructuringElement(cv2.MORPH_RECT, (9,9))\n",
    "dilate = cv2.dilate(thresh, kernel, iterations=4)\n",
    "\n",
    "    # Find contours, highlight text areas, and extract ROIs\n",
    "cnts = cv2.findContours(dilate, cv2.RETR_EXTERNAL, cv2.CHAIN_APPROX_SIMPLE)\n",
    "cnts = cnts[0] if len(cnts) == 2 else cnts[1]\n",
    "\n",
    "line_items_coordinates = []\n",
    "for c in cnts:\n",
    "    area = cv2.contourArea(c)\n",
    "    x,y,w,h = cv2.boundingRect(c)\n",
    "    \n",
    "\n",
    "    if y >= 600 and x <= 1000:\n",
    "        \n",
    "        if area > 10000:\n",
    "            image = cv2.rectangle(im, (x,y), (2200, y+h), color=(255,0,255), thickness=3)\n",
    "            line_items_coordinates.append([(x,y), (2200, y+h)])\n",
    "            # image=Image.save('sample.png')\n",
    "            cv2.imwrite('sample.png',image)\n",
    "            \n",
    "    if y >= 2400 and x<= 2000:\n",
    "        print(\"It is coming here\")\n",
    "        image = cv2.rectangle(im, (x,y), (2200, y+h), color=(255,0,255), thickness=3)\n",
    "        line_items_coordinates.append([(x,y), (2200, y+h)])\n",
    "        # image=Image.save('sample.png')\n",
    "        cv2.imwrite('sample.png',image)\n",
    "        \n",
    "\n",
    "#     return image, line_items_coordinates\n",
    "# new_image = mark_region('img.png')"
   ]
  },
  {
   "cell_type": "code",
   "execution_count": 3,
   "id": "3e9c1bc6-00ff-4e28-8b8e-557a2e8800b2",
   "metadata": {},
   "outputs": [
    {
     "data": {
      "text/plain": [
       "True"
      ]
     },
     "execution_count": 3,
     "metadata": {},
     "output_type": "execute_result"
    }
   ],
   "source": [
    "image_path = \"imagee.png\"\n",
    "def mark_region(image_path):\n",
    "    \n",
    "    im = cv2.imread(image_path)\n",
    "\n",
    "    gray = cv2.cvtColor(im, cv2.COLOR_BGR2GRAY)\n",
    "    blur = cv2.GaussianBlur(gray, (9,9), 0)\n",
    "    thresh = cv2.adaptiveThreshold(blur,255,cv2.ADAPTIVE_THRESH_GAUSSIAN_C, cv2.THRESH_BINARY_INV,11,30)\n",
    "\n",
    "    # Dilate to combine adjacent text contours\n",
    "    kernel = cv2.getStructuringElement(cv2.MORPH_RECT, (9,9))\n",
    "    dilate = cv2.dilate(thresh, kernel, iterations=6)\n",
    "\n",
    "    # Find contours, highlight text areas, and extract ROIs\n",
    "    # cnts = cv2.findContours(dilate, cv2.RETR_EXTERNAL, cv2.CHAIN_APPROX_SIMPLE) # cv2.RETR_LIST\n",
    "    # cnts = cv2.findContours(dilate, cv2.RETR_LIST, cv2.CHAIN_APPROX_SIMPLE) # cv2.RETR_TREE\n",
    "    cnts = cv2.findContours(dilate, cv2.RETR_TREE, cv2.CHAIN_APPROX_SIMPLE)\n",
    "    \n",
    "    \n",
    "    cnts = cnts[0] if len(cnts) == 2 else cnts[1]\n",
    "\n",
    "    line_items_coordinates = []\n",
    "    for c in cnts:\n",
    "        # print(\"countore founded\")\n",
    "        area = cv2.contourArea(c)\n",
    "       \n",
    "        x,y,w,h = cv2.boundingRect(c)\n",
    "        # print(\"the coutour area is \",area , \" the coutour coordinateare are x,y \" , x,y)\n",
    "        im = cv2.rectangle(im, (x,y), (2200, y+h), color=(255,0,255), thickness=3)\n",
    "        line_items_coordinates.append([(x,y), (2200, y+h)])\n",
    "        # print(\"it is coming inside this 1st if for x and y as :\" ,\"x =\",x,\" and y=\",y ,\" and area is \" , area )\n",
    "        cv2.imwrite('sample.png',im)\n",
    "\n",
    "        # if y >= 600 and x <= 1000:\n",
    "        #     if area > 10000:\n",
    "        #         im = cv2.rectangle(im, (x,y), (2200, y+h), color=(255,0,255), thickness=3)\n",
    "        #         line_items_coordinates.append([(x,y), (2200, y+h)])\n",
    "        #         print(\"it is coming inside this 1st if for x and y as :\" ,\"x =\",x,\" and y=\",y ,\" and area is \" , area )\n",
    "        #         cv2.imwrite('sample.png',im)\n",
    "\n",
    "        # if y >= 2400 and x<= 2000:\n",
    "        #     im = cv2.rectangle(im, (x,y), (2200, y+h), color=(255,0,255), thickness=3)\n",
    "        #     line_items_coordinates.append([(x,y), (2200, y+h)])\n",
    "        #     print(\"it is coming inside this 2nd if for x and y as : \",\"  x =\",x,\" and y=\",y ,\" and area is \" , area )\n",
    "        #     cv2.imwrite('sample.png',im)\n",
    "\n",
    "\n",
    "    return im, line_items_coordinates\n",
    "image , coor_image = mark_region(image_path)\n",
    "cv2.imwrite('sample.png',image)\n"
   ]
  },
  {
   "cell_type": "code",
   "execution_count": 4,
   "id": "d6062e49-ca9c-4380-af26-db86248662ed",
   "metadata": {},
   "outputs": [],
   "source": [
    "Image.fromarray(image).show()"
   ]
  },
  {
   "cell_type": "code",
   "execution_count": null,
   "id": "c7cd08a0-ed5f-4d98-a4ef-e799f385b05a",
   "metadata": {},
   "outputs": [],
   "source": []
  },
  {
   "cell_type": "code",
   "execution_count": null,
   "id": "f1baf84c-ed3b-4e51-bd30-8f5684a5d1d3",
   "metadata": {},
   "outputs": [],
   "source": []
  }
 ],
 "metadata": {
  "kernelspec": {
   "display_name": "Python 3 (ipykernel)",
   "language": "python",
   "name": "python3"
  },
  "language_info": {
   "codemirror_mode": {
    "name": "ipython",
    "version": 3
   },
   "file_extension": ".py",
   "mimetype": "text/x-python",
   "name": "python",
   "nbconvert_exporter": "python",
   "pygments_lexer": "ipython3",
   "version": "3.10.14"
  }
 },
 "nbformat": 4,
 "nbformat_minor": 5
}
