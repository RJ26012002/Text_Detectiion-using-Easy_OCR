{
 "cells": [
  {
   "cell_type": "markdown",
   "id": "61466671-bc8b-4a5d-bf3d-3f45ecb609f6",
   "metadata": {},
   "source": [
    "### Selecting the Region Of Interest "
   ]
  },
  {
   "cell_type": "code",
   "execution_count": 1,
   "id": "c27d9ff7-ea06-4ac8-97aa-4cad07e240ef",
   "metadata": {},
   "outputs": [],
   "source": [
    "import cv2\n",
    "import numpy as np\n",
    "import pytesseract\n",
    "import  os\n",
    "import random\n"
   ]
  },
  {
   "cell_type": "code",
   "execution_count": 2,
   "id": "9e70e6f9-b8b3-4888-b3be-54e08875778a",
   "metadata": {},
   "outputs": [],
   "source": [
    "scale =0.5\n",
    "circles = []\n",
    "counter = 0\n",
    "counter2 = 0\n",
    "point1 = []\n",
    "point2 = []\n",
    "myPoints = []\n",
    "myColor = []\n",
    "\n",
    "def mousePoints(event,x,y,flags,params):\n",
    "    global counter,point1,point2,counter2,circles,myColor\n",
    "    if event == cv2.EVENT_LBUTTONDOWN:\n",
    "        if counter==0:\n",
    "            point1=int(x//scale),int(y//scale);\n",
    "            counter+=1\n",
    "            myColor = (random.randint(0,2)*200,random.randint(0,2)*200,random.randint(0,2)*200)\n",
    "        elif counter == 1:\n",
    "            point2 = int(x//scale),int(y//scale)\n",
    "            type = input('Enter Type')\n",
    "            name = input('Enter Name')\n",
    "            myPoints.append([point1,point2,type,name])\n",
    "            counter=0\n",
    "        circles.append([x,y,myColor])\n",
    "        counter2 +=1\n",
    "img = cv2.imread('img.jpg')\n",
    "# img = cv2.resize(img,(0,0),None , scale , scale)\n"
   ]
  },
  {
   "cell_type": "code",
   "execution_count": 3,
   "id": "ecc8c430-deb2-49b5-9267-d446c48c9a90",
   "metadata": {},
   "outputs": [
    {
     "name": "stdin",
     "output_type": "stream",
     "text": [
      "Enter Type Table\n",
      "Enter Name Table\n",
      "Enter Type Text\n",
      "Enter Name Buyer Details\n"
     ]
    },
    {
     "name": "stdout",
     "output_type": "stream",
     "text": [
      "[[(18, 766), (1044, 946), 'Table', 'Table'], [(52, 254), (396, 428), 'Text', 'Buyer Details']]\n"
     ]
    }
   ],
   "source": [
    "while True:\n",
    "    # To display points\n",
    "    for x,y,color in circles :\n",
    "        cv2.circle(img,(x,y) , 3, color , cv2.FILLED)\n",
    "    cv2.imshow(\"Original Image \" , img)\n",
    "    cv2.setMouseCallback(\"Original Image \" , mousePoints)\n",
    "    if cv2.waitKey(1) & 0xFF == ord('s'):\n",
    "        print(myPoints)\n",
    "        break"
   ]
  },
  {
   "cell_type": "code",
   "execution_count": null,
   "id": "ec7e4747-7900-4a35-aadd-fe790708c7cc",
   "metadata": {},
   "outputs": [],
   "source": []
  }
 ],
 "metadata": {
  "kernelspec": {
   "display_name": "Python 3 (ipykernel)",
   "language": "python",
   "name": "python3"
  },
  "language_info": {
   "codemirror_mode": {
    "name": "ipython",
    "version": 3
   },
   "file_extension": ".py",
   "mimetype": "text/x-python",
   "name": "python",
   "nbconvert_exporter": "python",
   "pygments_lexer": "ipython3",
   "version": "3.10.14"
  }
 },
 "nbformat": 4,
 "nbformat_minor": 5
}
